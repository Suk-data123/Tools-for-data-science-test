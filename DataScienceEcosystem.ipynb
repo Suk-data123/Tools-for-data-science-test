{
 "cells": [
  {
   "cell_type": "markdown",
   "id": "cf5d9ba3-5fda-422a-8a46-2c6670adce03",
   "metadata": {},
   "source": [
    "# Execute it as a markdown cell\n",
    "# H1: Data Science Tools and Ecosystem"
   ]
  },
  {
   "cell_type": "markdown",
   "id": "ff0ca7bf-81d8-4ec5-aac1-88500e36fa15",
   "metadata": {},
   "source": [
    "# Execute it as a markdown cell\n",
    "# H1: Data Science Tools and Ecosystem"
   ]
  },
  {
   "cell_type": "markdown",
   "id": "518375e7-b726-4307-8c29-8846b0ce4ca2",
   "metadata": {},
   "source": [
    "In this notebook, Data Science Tools and Ecosystem are summarized."
   ]
  },
  {
   "cell_type": "markdown",
   "id": "bbb94f9c-464a-4032-afba-cd034a7b67ce",
   "metadata": {},
   "source": [
    "In this notebook, Data Science Tools and Ecosystem are summarized."
   ]
  },
  {
   "cell_type": "markdown",
   "id": "c0eaae2b-5dae-4bef-81ce-ee0beb8096f5",
   "metadata": {},
   "source": [
    "**Objectives**\n",
    "- Popular languages that data scientists use\n",
    "- Common libraries used in data science\n",
    "- Data science tools - development environment open source tools\n",
    "- Arithmetic expressions"
   ]
  },
  {
   "cell_type": "markdown",
   "id": "236f7d71-db6b-4bb7-a034-df88ff81a815",
   "metadata": {},
   "source": [
    "**Objectives**\n",
    "- Popular languages that data scientists use\n",
    "- Common libraries used in data science\n",
    "- Data science tools - development environment open source tools\n",
    "- Arithmetic expressions"
   ]
  },
  {
   "cell_type": "markdown",
   "id": "8806a38c-5c97-4b7f-9493-25db0b1f1dea",
   "metadata": {},
   "source": [
    "Some of the popular languages that Data Scientists use are:\n",
    "1. Python\n",
    "2. R\n",
    "3. SQL\n",
    "4. Java"
   ]
  },
  {
   "cell_type": "markdown",
   "id": "9fbe02d3-a4e0-40e6-b23c-201f492a61cb",
   "metadata": {},
   "source": [
    "Some of the popular languages that Data Scientists use are:\n",
    "1. Python\n",
    "2. R\n",
    "3. SQL\n",
    "4. Java"
   ]
  },
  {
   "cell_type": "markdown",
   "id": "5346c724-74ea-453d-bb26-2ab9e57823e7",
   "metadata": {},
   "source": [
    "Some of the common libraries that Data Scientists use are:\n",
    "1. Pandas\n",
    "2. NumPy\n",
    "3. Matplotlib\n",
    "4. TensorFlow"
   ]
  },
  {
   "cell_type": "markdown",
   "id": "bc024669-01f7-4447-aa1c-1e0777de80bd",
   "metadata": {},
   "source": [
    "Some of the common libraries that Data Scientists use are:\n",
    "1. Pandas\n",
    "2. NumPy\n",
    "3. Matplotlib\n",
    "4. TensorFlow"
   ]
  },
  {
   "cell_type": "markdown",
   "id": "de143ba1-77fa-4a58-8705-160fc8ab27c9",
   "metadata": {},
   "source": [
    "| Data Science Tools |\n",
    "| -------------------|\n",
    "| RStudio |\n",
    "| Apache Spark|\n",
    "| Apache Hadoop|"
   ]
  },
  {
   "cell_type": "markdown",
   "id": "c12e764c-91d9-4b19-84e6-8dcf79e1a2e2",
   "metadata": {
    "tags": []
   },
   "source": [
    "| Data Science Tools |\n",
    "| -------------------|\n",
    "| RStudio |\n",
    "| Apache Spark|\n",
    "| Apache Hadoop|"
   ]
  },
  {
   "cell_type": "markdown",
   "id": "c1685bd3-63d6-4310-b8da-954f3ea8bd0b",
   "metadata": {},
   "source": [
    "### INTRODUCING ARITHMETIC EXPRESSIONS: Below are a few examples of evaluating arithmetic expressions in Python"
   ]
  },
  {
   "cell_type": "markdown",
   "id": "445aacfa-e44e-4ca2-8cd4-68f0b86f5a6b",
   "metadata": {
    "tags": []
   },
   "source": [
    "### INTRODUCING ARITHMETIC EXPRESSIONS: Below are a few examples of evaluating arithmetic expressions in Python"
   ]
  },
  {
   "cell_type": "code",
   "execution_count": 3,
   "id": "10fe5a7a-7f77-4f4e-a518-0f6c2c15e45e",
   "metadata": {
    "tags": []
   },
   "outputs": [
    {
     "data": {
      "text/plain": [
       "17"
      ]
     },
     "execution_count": 3,
     "metadata": {},
     "output_type": "execute_result"
    }
   ],
   "source": [
    "# This a simple arithmetic expression to mutiply then add integers\n",
    "(3*4)+5"
   ]
  },
  {
   "cell_type": "code",
   "execution_count": 5,
   "id": "061f323c-cf8a-4925-a20b-f9e1d9bd86fc",
   "metadata": {
    "tags": []
   },
   "outputs": [
    {
     "data": {
      "text/plain": [
       "3.3333333333333335"
      ]
     },
     "execution_count": 5,
     "metadata": {},
     "output_type": "execute_result"
    }
   ],
   "source": [
    "#This will convert 200 minutes into hours bby dividing by 60\n",
    "(200/60)"
   ]
  },
  {
   "cell_type": "markdown",
   "id": "2601d53b-cba8-4bee-bcae-02a0616e8316",
   "metadata": {},
   "source": [
    "## Author:Sukriti Anantharaman"
   ]
  },
  {
   "cell_type": "markdown",
   "id": "9c468265-5e1c-4903-aa3e-044844ee50ac",
   "metadata": {},
   "source": [
    "## Author:Sukriti Anantharaman"
   ]
  },
  {
   "cell_type": "code",
   "execution_count": null,
   "id": "c402a11f-fbda-4050-ba9f-7c189e5f2965",
   "metadata": {},
   "outputs": [],
   "source": []
  }
 ],
 "metadata": {
  "kernelspec": {
   "display_name": "Python",
   "language": "python",
   "name": "conda-env-python-py"
  },
  "language_info": {
   "codemirror_mode": {
    "name": "ipython",
    "version": 3
   },
   "file_extension": ".py",
   "mimetype": "text/x-python",
   "name": "python",
   "nbconvert_exporter": "python",
   "pygments_lexer": "ipython3",
   "version": "3.7.12"
  }
 },
 "nbformat": 4,
 "nbformat_minor": 5
}
